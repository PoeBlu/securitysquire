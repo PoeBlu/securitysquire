{
 "cells": [
  {
   "cell_type": "code",
   "execution_count": null,
   "metadata": {},
   "outputs": [],
   "source": [
    "from __future__ import print_function\n",
    "import socket\n",
    "import argparse\n",
    "import requests\n",
    "import re\n",
    "import pandas as pd\n",
    "import numpy as np\n",
    "import pickle"
   ]
  },
  {
   "cell_type": "code",
   "execution_count": null,
   "metadata": {},
   "outputs": [],
   "source": [
    "# Special thanks to Justin Bollinger @bandrel for the script\n",
    "# https://gist.github.com/bandrel/1573f0d7ef9d32e4cbf7639e35fcea79\n",
    "\n",
    "#parser = argparse.ArgumentParser(description='Enumerate subdomains via certificate transparency logs')\n",
    "#parser.add_argument('domain', type=str, help='Target domain name')\n",
    "#parser.add_argument('-i', action='count', default=0, help='Enables printing of hosts believed to be internal only')\n",
    "#parser.add_argument('-v', action='count', help='Enables verbose output, -v for verbose or -vv for very verbose', default=0)\n",
    "\n",
    "#args = parser.parse_args()\n",
    "\n",
    "#target_domain = args.domain\n",
    "#verbose = args.v\n",
    "internal_hosts = []\n",
    "dfhosts = pd.DataFrame(columns = {'DomainName': [] , 'addr': []}) \n",
    "\n",
    "# Enter the target to be searched\n",
    "target_domain = 'derbycon.com'\n",
    "verbose = 0\n",
    "internal = 1\n",
    "\n",
    "r = requests.get('https://crt.sh/?q=%.'+target_domain)\n",
    "hostnames = re.findall(r'<TD>(\\S+\\.'+target_domain+r')',r.text)\n",
    "uniq_hostnames = set(hostnames)\n",
    "if verbose:\n",
    "    print('Domain names found:')\n",
    "    for host in uniq_hostnames:\n",
    "        print(host)\n",
    "\n",
    "for host in uniq_hostnames:\n",
    "    try:\n",
    "        data = socket.gethostbyname_ex(host)\n",
    "        print(data[0]+'\\t'+data[2][0])\n",
    "        \n",
    "        # Custom\n",
    "        dfhosts = dfhosts.append({'DomainName': data[0], 'addr': data[2][0]}, ignore_index=True)\n",
    "    except socket.gaierror:\n",
    "        if verbose:\n",
    "            print('{host} does not resolve, may be resolveable internally only'.format(host=host))\n",
    "        internal_hosts.append(host)\n",
    "\n",
    "\n",
    "#if args.i:\n",
    "if internal:\n",
    "    print('\\n\\nHostnames exist in certificate transparancy logs, but do not resolve')\n",
    "    for host in internal_hosts:\n",
    "        print(host)"
   ]
  },
  {
   "cell_type": "code",
   "execution_count": null,
   "metadata": {},
   "outputs": [],
   "source": [
    "dfhosts.to_pickle('dfhosts.pkl')  # where to save it, usually as a .pkl\n",
    "print(dfhosts)"
   ]
  },
  {
   "cell_type": "code",
   "execution_count": null,
   "metadata": {},
   "outputs": [],
   "source": [
    "# Load an external notebook with normalized functions\n",
    "%run ./centralprocessing.ipynb\n",
    "df_min = get_location(dfhosts, 'addr')\n",
    "df_min.head(10)"
   ]
  },
  {
   "cell_type": "code",
   "execution_count": null,
   "metadata": {},
   "outputs": [],
   "source": [
    "# Load an external notebook with normalized functions\n",
    "%run ./centralprocessing.ipynb\n",
    "df_plot = prepare_location(df_min)\n",
    "df_plot.head(100)"
   ]
  },
  {
   "cell_type": "code",
   "execution_count": null,
   "metadata": {},
   "outputs": [],
   "source": [
    "# Load an external notebook with normalized functions\n",
    "%run ./centralprocessing.ipynb\n",
    "fig = get_heatmap(df_plot)\n",
    "fig"
   ]
  },
  {
   "cell_type": "code",
   "execution_count": null,
   "metadata": {},
   "outputs": [],
   "source": []
  }
 ],
 "metadata": {
  "kernelspec": {
   "display_name": "Python 3",
   "language": "python",
   "name": "python3"
  },
  "language_info": {
   "codemirror_mode": {
    "name": "ipython",
    "version": 3
   },
   "file_extension": ".py",
   "mimetype": "text/x-python",
   "name": "python",
   "nbconvert_exporter": "python",
   "pygments_lexer": "ipython3",
   "version": "3.7.3"
  }
 },
 "nbformat": 4,
 "nbformat_minor": 2
}
