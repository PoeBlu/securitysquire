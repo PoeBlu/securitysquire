{
 "cells": [
  {
   "cell_type": "code",
   "execution_count": null,
   "metadata": {},
   "outputs": [],
   "source": [
    "# importing the requests library \n",
    "# Referenced from: https://blog.rapid7.com/2018/10/16/how-to-conduct-dns-reconnaissance-for-02-using-rapid7-open-data-and-aws/\n",
    "\n",
    "import requests\n",
    "import pandas as pd\n",
    "import io\n",
    "import time\n",
    "\n",
    "# ESTABLISH VARIABLES\n",
    "# Special thanks to Evan Perotti for the awesome walkthrough to create the APIs and supporting AWS infrastructure!\n",
    "# To create the AWS API endpoints, you will need to follow the blog at http://securityriskadvisors.com/blog/creating-a-project-sonar-fdns-api-with-aws/\n",
    "\n",
    "# API Endpoints - You will need to input your specific URL to the API created using the above steps.\n",
    "runQueryURL = \"https://<api_name>.execute-api.us-east-1.amazonaws.com/production/{search-r7fqdns+}\"\n",
    "getResultsURL = \"https://<api_name>.execute-api.us-east-1.amazonaws.com/production/{results-r7fqdns+}\"\n",
    "\n",
    "# Domain to search  - Enter your domain that you wish to query.\n",
    "location = \"derbycon.com\"\n",
    "\n",
    "# defining a params dict for the parameters to be sent to the API \n",
    "searchDomain = {'domain':location} \n",
    "  \n",
    "# sending get request and saving the response as response object \n",
    "rSearch = requests.get(url = runQueryURL, params = searchDomain) \n",
    "  \n",
    "# extracting data in json format \n",
    "searchData = rSearch.json() \n",
    "executionID = searchData['execution_id']\n",
    "searchID = {'execution_id':executionID}\n",
    "\n",
    "# Utilize executionID to retrieve results\n",
    "rResults = requests.get(url = getResultsURL, params = searchID)\n",
    "resultsData = rResults.json()\n",
    "print(resultsData)\n",
    "downloadURL = resultsData['results']\n",
    "\n",
    "# Wait for file to be created. - 30 seconds seems to be long enough for most queries\n",
    "time.sleep(30)\n",
    "\n",
    "# Load output into dataframe - re-run the following section of code if the initial process fails.\n",
    "s=requests.get(downloadURL).content\n",
    "dfhosts=pd.read_csv(io.StringIO(s.decode('utf-8')))\n",
    "dfhosts"
   ]
  },
  {
   "cell_type": "code",
   "execution_count": null,
   "metadata": {},
   "outputs": [],
   "source": [
    "# Load an external notebook with normalized functions\n",
    "%run ./centralprocessing.ipynb\n",
    "# Pass the central function the dataframe and the column containing the IP address\n",
    "df_min = get_location(dfhosts, 'value')\n",
    "df_min.head(10)"
   ]
  },
  {
   "cell_type": "code",
   "execution_count": null,
   "metadata": {},
   "outputs": [],
   "source": [
    "# Load an external notebook with normalized functions\n",
    "%run ./centralprocessing.ipynb\n",
    "df_plot = prepare_location(df_min)\n",
    "df_plot.head(50)"
   ]
  },
  {
   "cell_type": "code",
   "execution_count": null,
   "metadata": {},
   "outputs": [],
   "source": [
    "# Load an external notebook with normalized functions\n",
    "%run ./centralprocessing.ipynb\n",
    "fig = get_heatmap(df_plot)\n",
    "fig"
   ]
  }
 ],
 "metadata": {
  "kernelspec": {
   "display_name": "Python 3",
   "language": "python",
   "name": "python3"
  },
  "language_info": {
   "codemirror_mode": {
    "name": "ipython",
    "version": 3
   },
   "file_extension": ".py",
   "mimetype": "text/x-python",
   "name": "python",
   "nbconvert_exporter": "python",
   "pygments_lexer": "ipython3",
   "version": "3.7.3"
  }
 },
 "nbformat": 4,
 "nbformat_minor": 2
}
