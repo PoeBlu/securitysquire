{
 "cells": [
  {
   "cell_type": "code",
   "execution_count": null,
   "metadata": {},
   "outputs": [],
   "source": [
    "# Importing re package for using regular expressions \n",
    "import re\n",
    "import datetime\n",
    "import pandas as pd\n",
    "import seaborn as sns\n",
    "import matplotlib.pyplot as plt\n",
    "\n",
    "# Process csv download from https://cve.mitre.org/data/downloads/allitems.csv - You could do a wget directly to pull down the latest version\n",
    "dfCVE = pd.read_csv('allitems.csv', sep=',', skiprows=[0,1,3,4,5,6,7,8,9], header=0, encoding = \"ISO-8859-1\")\n",
    "\n",
    "# Function to clean the names - there is probably a better way of doing all of this.\n",
    "def normalize_columns(Phase): \n",
    "    Phase = str(Phase)\n",
    "    if re.search('(\\()(\\d\\d\\d\\d\\d\\d\\d\\d)', Phase): \n",
    "        pos = re.search('(\\()(\\d\\d\\d\\d\\d\\d\\d\\d)', Phase)\n",
    "        pos = pos.group(2)\n",
    "        date_str = pos\n",
    "        format_str = '%Y%m%d'\n",
    "        pos = datetime.datetime.strptime(date_str, format_str)      \n",
    "        return pos\n",
    "    else: \n",
    "        # if clean up needed return the same name \n",
    "        pos = \"19000101\"\n",
    "        date_str = pos\n",
    "        format_str = '%Y%m%d'\n",
    "        pos = datetime.datetime.strptime(date_str, format_str) \n",
    "        return 'null'\n",
    "\n",
    "# Add a normalized CVE date column\n",
    "dfCVE['CVEDate'] = dfCVE['Phase'].apply(normalize_columns)\n",
    "# Drop the null date values\n",
    "dfCVE.drop(dfCVE[dfCVE.CVEDate == 'null'].index, inplace=True)\n",
    "dfCVE"
   ]
  },
  {
   "cell_type": "code",
   "execution_count": null,
   "metadata": {},
   "outputs": [],
   "source": [
    "# How many per year\n",
    "CVEYear = dfCVE['CVEDate'].groupby([dfCVE.CVEDate.dt.year]).agg('count').to_frame('counts')\n",
    "\n",
    "# Convert results to dataframe\n",
    "dfCVEYear = pd.DataFrame(CVEYear)\n",
    "dfCVEYear = dfCVEYear.reset_index()\n",
    "dfCVEYear.columns = ['Year', 'Count'] # change column names\n",
    "dfCVEYear"
   ]
  },
  {
   "cell_type": "code",
   "execution_count": null,
   "metadata": {},
   "outputs": [],
   "source": [
    "#Which months are busiest. Could indicate more patching\n",
    "\n",
    "dfCVE['CVEDateTime'] = pd.to_datetime(dfCVE['CVEDate'])\n",
    "dfCVE.index = dfCVE['CVEDateTime']\n",
    "dfCVE.resample('M').sum()"
   ]
  },
  {
   "cell_type": "code",
   "execution_count": null,
   "metadata": {},
   "outputs": [],
   "source": [
    "# Which months are busiest for CVE - Could indicate more patching\n",
    "CVEMonth = dfCVE['CVEDate'].groupby([dfCVE.CVEDate.dt.month]).agg('count').to_frame('counts')\n",
    "# Convert results to dataframe\n",
    "dfCVEMonth = pd.DataFrame(CVEMonth)\n",
    "dfCVEMonth = dfCVEMonth.reset_index()\n",
    "dfCVEMonth.columns = ['Month', 'Count'] # change column names\n",
    "dfCVEMonth"
   ]
  },
  {
   "cell_type": "code",
   "execution_count": null,
   "metadata": {},
   "outputs": [],
   "source": [
    "import numpy as np\n",
    "from bokeh.io import output_notebook, show\n",
    "from bokeh.plotting import figure\n",
    "\n",
    "# Confirm that Bokeh is working\n",
    "#output_notebook()\n",
    "dfCVEYearMod = dfCVEYear.iloc[1:]\n",
    "p = figure(plot_width=400, plot_height=400)\n",
    "p.circle(dfCVEYearMod['Year'],dfCVEYearMod['Count'], size=10, line_color=\"navy\", fill_color=\"red\", fill_alpha=0.5)\n",
    "\n",
    "show(p) # show the results"
   ]
  },
  {
   "cell_type": "code",
   "execution_count": null,
   "metadata": {},
   "outputs": [],
   "source": []
  }
 ],
 "metadata": {
  "kernelspec": {
   "display_name": "Python 3",
   "language": "python",
   "name": "python3"
  },
  "language_info": {
   "codemirror_mode": {
    "name": "ipython",
    "version": 3
   },
   "file_extension": ".py",
   "mimetype": "text/x-python",
   "name": "python",
   "nbconvert_exporter": "python",
   "pygments_lexer": "ipython3",
   "version": "3.7.3"
  }
 },
 "nbformat": 4,
 "nbformat_minor": 2
}
