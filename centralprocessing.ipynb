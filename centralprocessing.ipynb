{
 "cells": [
  {
   "cell_type": "code",
   "execution_count": null,
   "metadata": {},
   "outputs": [],
   "source": [
    "# Radar chart URL - https://python-graph-gallery.com/390-basic-radar-chart/\n",
    "# list of references and ideas - https://towardsdatascience.com/jupyter-superpower-interactive-visualization-combo-with-python-ffc0adb37b7b\n",
    "# https://observablehq.com/@rreusser/domain-coloring-for-complex-functions?collection=@observablehq/webgl\n",
    "# http://users.mai.liu.se/hanlu09/complex/domain_coloring.html\n",
    "# more radar https://python-graph-gallery.com/390-basic-radar-chart/\n",
    "# more radar https://matplotlib.org/examples/api/radar_chart.html"
   ]
  },
  {
   "cell_type": "code",
   "execution_count": null,
   "metadata": {},
   "outputs": [],
   "source": [
    "#%pip install geoip2\n",
    "\n",
    "#https://dev.maxmind.com/geoip/geoip2/geolite2/\n",
    "#This product includes GeoLite2 data created by MaxMind, available from\n",
    "#<a href=\"http://www.maxmind.com\">http://www.maxmind.com</a>\n",
    "\n",
    "import geoip2.database\n",
    "reader = geoip2.database.Reader('Tools/GeoLite2-City.mmdb')\n",
    "\n",
    "#create a function to find the lat/long of the addy based on maxmind reader\n",
    "def lookup_location(IPAddress):\n",
    "    try:\n",
    "        response = reader.city(IPAddress)\n",
    "        return round(response.location.latitude,3), round(response.location.longitude,3), response.country.name, response.city.name\n",
    "    except:\n",
    "        # If private IP address, return address at center of map\n",
    "        return 0,0,0,0\n",
    "        #return null\n",
    "\n",
    "#function to get a dual output into different columns in a dataframe\n",
    "#https://stackoverflow.com/questions/23690284/pandas-apply-function-that-returns-multiple-values-to-rows-in-pandas-dataframe\n",
    "def apply_and_concat(dataframe, field, func, column_names):\n",
    "    return pd.concat((\n",
    "                         dataframe,\n",
    "                         dataframe[field].apply(\n",
    "                         lambda cell: pd.Series(func(cell), index=column_names))), axis=1)\n",
    "\n",
    "def get_location(df_ip,columnIP):\n",
    "    df_min = apply_and_concat(df_ip, columnIP, lookup_location, ['latitude', 'longitude', 'country', 'state'])\n",
    "    # Remove the rows with missing lat/long\n",
    "    df_min = df_min[(df_min.latitude != 0.000)&(df_min.longitude != 0.000)]\n",
    "    return df_min"
   ]
  },
  {
   "cell_type": "code",
   "execution_count": null,
   "metadata": {},
   "outputs": [],
   "source": [
    "# pip install gmaps\n",
    "#https://jupyter-gmaps.readthedocs.io/en/latest/tutorial.html\n",
    "import gmaps\n",
    "import gmaps.datasets\n",
    "\n",
    "# Enter your Google Maps API key. You could use pickle to serialize it and store it outside of code.\n",
    "api = 'EnterYourGoogleMapsAPI'\n",
    "gmaps.configure(api_key=api)\n",
    "\n",
    "def prepare_location(df_min):\n",
    "    #pandas chaining\n",
    "    #1 - group by lat/long\n",
    "    #2 - get the size of a column to consolidate groupby object\n",
    "    #3 - take it from a indexed series to a dataframe\n",
    "    #4 - reset the index so that groupby is flattened and can be referenced\n",
    "    #5 - rename the size column (0) to 'count'\n",
    "    df_plot = df_min.groupby(['latitude', 'longitude']).size().to_frame().reset_index().rename(columns={0:'count'})\n",
    "    return df_plot\n",
    "\n",
    "# Need to enable extensions and widgets before figure will display\n",
    "#jupyter nbextension enable --py gmaps\n",
    "#jupyter nbextension enable --py widgetsnbextension\n",
    "#Restart Jupyter\n",
    "\n",
    "def get_heatmap(df_plot):\n",
    "    locations = df_plot[['latitude', 'longitude']]\n",
    "    weights = df_plot['count']\n",
    "    fig = gmaps.figure()\n",
    "    #fig.add_layer(gmaps.heatmap_layer(locations, weights=weights))\n",
    "    fig.add_layer(gmaps.heatmap_layer(locations))\n",
    "    return fig"
   ]
  }
 ],
 "metadata": {
  "kernelspec": {
   "display_name": "Python 3",
   "language": "python",
   "name": "python3"
  },
  "language_info": {
   "codemirror_mode": {
    "name": "ipython",
    "version": 3
   },
   "file_extension": ".py",
   "mimetype": "text/x-python",
   "name": "python",
   "nbconvert_exporter": "python",
   "pygments_lexer": "ipython3",
   "version": "3.7.3"
  }
 },
 "nbformat": 4,
 "nbformat_minor": 2
}
